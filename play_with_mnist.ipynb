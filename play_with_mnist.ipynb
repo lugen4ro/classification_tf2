{
 "cells": [
  {
   "cell_type": "code",
   "execution_count": 3,
   "metadata": {},
   "outputs": [
    {
     "name": "stdout",
     "output_type": "stream",
     "text": [
      "datasets: (60000, 28, 28) (60000,) 0 255\n",
      "<class 'numpy.ndarray'>\n"
     ]
    }
   ],
   "source": [
    "import  tensorflow as tf\n",
    "from tensorflow.keras import datasets, layers, optimizers, Sequential, metrics\n",
    "\n",
    "(xs, ys),_ = datasets.mnist.load_data()\n",
    "print('datasets:', xs.shape, ys.shape, xs.min(), xs.max())\n",
    "\n",
    "print(type(xs))\n",
    "xs = tf.convert_to_tensor(xs, dtype=tf.float32) / 255.\n",
    "db = tf.data.Dataset.from_tensor_slices((xs,ys))\n",
    "# repeat repeats the whole dataset such that each value will appear count times\n",
    "db = db.batch(32).repeat(10)"
   ]
  },
  {
   "cell_type": "code",
   "execution_count": 20,
   "metadata": {},
   "outputs": [
    {
     "name": "stdout",
     "output_type": "stream",
     "text": [
      "Model: \"sequential\"\n",
      "_________________________________________________________________\n",
      "Layer (type)                 Output Shape              Param #   \n",
      "=================================================================\n",
      "dense (Dense)                (None, 256)               200960    \n",
      "_________________________________________________________________\n",
      "dense_1 (Dense)              (None, 256)               65792     \n",
      "_________________________________________________________________\n",
      "dense_2 (Dense)              (None, 256)               65792     \n",
      "_________________________________________________________________\n",
      "dense_3 (Dense)              (None, 10)                2570      \n",
      "=================================================================\n",
      "Total params: 335,114\n",
      "Trainable params: 335,114\n",
      "Non-trainable params: 0\n",
      "_________________________________________________________________\n"
     ]
    }
   ],
   "source": [
    "network = Sequential([layers.Dense(256, activation='relu'),\n",
    "                     layers.Dense(256, activation='relu'),\n",
    "                     layers.Dense(256, activation='relu'),\n",
    "                     layers.Dense(10)])\n",
    "\n",
    "network.build(input_shape=(None, 28*28))\n",
    "network.summary()\n",
    "\n",
    "optimizer = optimizers.SGD(lr=0.01)\n",
    "acc_meter = metrics.Accuracy()"
   ]
  },
  {
   "cell_type": "code",
   "execution_count": 21,
   "metadata": {},
   "outputs": [
    {
     "name": "stdout",
     "output_type": "stream",
     "text": [
      "0 loss: 1.5306174755096436 acc: 0.0625\n",
      "200 loss: 0.40297916531562805 acc: 0.67546874\n",
      "400 loss: 0.4081514775753021 acc: 0.8453125\n",
      "600 loss: 0.3423200845718384 acc: 0.8646875\n",
      "800 loss: 0.24360646307468414 acc: 0.89390624\n",
      "1000 loss: 0.30946558713912964 acc: 0.896875\n",
      "1200 loss: 0.2788773775100708 acc: 0.9078125\n",
      "1400 loss: 0.21690113842487335 acc: 0.91765624\n",
      "1600 loss: 0.1752510368824005 acc: 0.9117187\n",
      "1800 loss: 0.21858201920986176 acc: 0.92828125\n",
      "2000 loss: 0.1999574601650238 acc: 0.9428125\n",
      "2200 loss: 0.13363730907440186 acc: 0.93015623\n",
      "2400 loss: 0.2297099530696869 acc: 0.9284375\n",
      "2600 loss: 0.18208461999893188 acc: 0.9373438\n",
      "2800 loss: 0.12813743948936462 acc: 0.9373438\n",
      "3000 loss: 0.22194629907608032 acc: 0.93171877\n",
      "3200 loss: 0.18575981259346008 acc: 0.94109374\n",
      "3400 loss: 0.15277454257011414 acc: 0.9371875\n",
      "3600 loss: 0.10971058905124664 acc: 0.936875\n",
      "3800 loss: 0.16824674606323242 acc: 0.9560937\n",
      "4000 loss: 0.18872258067131042 acc: 0.953125\n",
      "4200 loss: 0.12394105643033981 acc: 0.9409375\n",
      "4400 loss: 0.13340410590171814 acc: 0.94625\n",
      "4600 loss: 0.16685612499713898 acc: 0.9482812\n",
      "4800 loss: 0.14992830157279968 acc: 0.9401562\n",
      "5000 loss: 0.11809283494949341 acc: 0.95125\n",
      "5200 loss: 0.2213907390832901 acc: 0.9476563\n",
      "5400 loss: 0.2139246165752411 acc: 0.9476563\n",
      "5600 loss: 0.07725963741540909 acc: 0.9625\n",
      "5800 loss: 0.14217975735664368 acc: 0.96046877\n",
      "6000 loss: 0.11925407499074936 acc: 0.95203125\n",
      "6200 loss: 0.1455967128276825 acc: 0.94984376\n",
      "6400 loss: 0.10374270379543304 acc: 0.9546875\n",
      "6600 loss: 0.11615588515996933 acc: 0.9534375\n",
      "6800 loss: 0.11141568422317505 acc: 0.95375\n",
      "7000 loss: 0.09677354246377945 acc: 0.95765626\n",
      "7200 loss: 0.2932901978492737 acc: 0.9490625\n",
      "7400 loss: 0.13661561906337738 acc: 0.95875\n",
      "7600 loss: 0.14794951677322388 acc: 0.9684375\n",
      "7800 loss: 0.09276414662599564 acc: 0.9579688\n",
      "8000 loss: 0.15317614376544952 acc: 0.9575\n",
      "8200 loss: 0.07733067870140076 acc: 0.95984375\n",
      "8400 loss: 0.07218189537525177 acc: 0.95765626\n",
      "8600 loss: 0.11397279798984528 acc: 0.9560937\n",
      "8800 loss: 0.12397266924381256 acc: 0.9632813\n",
      "9000 loss: 0.12585031986236572 acc: 0.9575\n",
      "9200 loss: 0.08012890070676804 acc: 0.9565625\n",
      "9400 loss: 0.0695054829120636 acc: 0.96984375\n",
      "9600 loss: 0.17082275450229645 acc: 0.96765625\n",
      "9800 loss: 0.046235013753175735 acc: 0.95984375\n",
      "10000 loss: 0.13932234048843384 acc: 0.96\n",
      "10200 loss: 0.10474174469709396 acc: 0.961875\n",
      "10400 loss: 0.13443021476268768 acc: 0.9571875\n",
      "10600 loss: 0.07082603126764297 acc: 0.96734375\n",
      "10800 loss: 0.19886831939220428 acc: 0.9625\n",
      "11000 loss: 0.09148973226547241 acc: 0.95984375\n",
      "11200 loss: 0.09834316372871399 acc: 0.96625\n",
      "11400 loss: 0.09151965379714966 acc: 0.97328126\n",
      "11600 loss: 0.13116329908370972 acc: 0.9634375\n",
      "11800 loss: 0.09092789888381958 acc: 0.96265626\n",
      "12000 loss: 0.07989431172609329 acc: 0.9660938\n",
      "12200 loss: 0.06441409140825272 acc: 0.963125\n",
      "12400 loss: 0.1152677908539772 acc: 0.9660938\n",
      "12600 loss: 0.15604755282402039 acc: 0.96484375\n",
      "12800 loss: 0.09822844713926315 acc: 0.96453124\n",
      "13000 loss: 0.08046839386224747 acc: 0.96546876\n",
      "13200 loss: 0.14713265001773834 acc: 0.9739063\n",
      "13400 loss: 0.09222733974456787 acc: 0.97015625\n",
      "13600 loss: 0.08971972018480301 acc: 0.9659375\n",
      "13800 loss: 0.09769614040851593 acc: 0.96703124\n",
      "14000 loss: 0.0631442740559578 acc: 0.96703124\n",
      "14200 loss: 0.18415305018424988 acc: 0.96703124\n",
      "14400 loss: 0.08948332816362381 acc: 0.9696875\n",
      "14600 loss: 0.16925406455993652 acc: 0.9659375\n",
      "14800 loss: 0.08097103983163834 acc: 0.96625\n",
      "15000 loss: 0.08151416480541229 acc: 0.97515625\n",
      "15200 loss: 0.09043650329113007 acc: 0.9742187\n",
      "15400 loss: 0.09855841845273972 acc: 0.9689062\n",
      "15600 loss: 0.08631540834903717 acc: 0.96796876\n",
      "15800 loss: 0.07258272171020508 acc: 0.97046876\n",
      "16000 loss: 0.109391950070858 acc: 0.965\n",
      "16200 loss: 0.09948216378688812 acc: 0.9714062\n",
      "16400 loss: 0.09231599420309067 acc: 0.9714062\n",
      "16600 loss: 0.07311598211526871 acc: 0.9657813\n",
      "16800 loss: 0.10003961622714996 acc: 0.9734375\n",
      "17000 loss: 0.09134145826101303 acc: 0.9771875\n",
      "17200 loss: 0.02793826535344124 acc: 0.9717187\n",
      "17400 loss: 0.07827052474021912 acc: 0.9709375\n",
      "17600 loss: 0.10151422768831253 acc: 0.97015625\n",
      "17800 loss: 0.05312129110097885 acc: 0.9714062\n",
      "18000 loss: 0.0782206580042839 acc: 0.97125\n",
      "18200 loss: 0.08702646195888519 acc: 0.971875\n",
      "18400 loss: 0.061445482075214386 acc: 0.9710938\n",
      "18600 loss: 0.04707478731870651 acc: 0.96984375\n"
     ]
    }
   ],
   "source": [
    "for step, (x,y) in enumerate(db):\n",
    "\n",
    "    with tf.GradientTape() as tape:\n",
    "        # [b, 28, 28] => [b, 784]\n",
    "        x = tf.reshape(x, (-1, 28*28))\n",
    "        # [b, 784] => [b, 10]\n",
    "        out = network(x)\n",
    "        # [b] => [b, 10]\n",
    "        y_onehot = tf.one_hot(y, depth=10)\n",
    "        # [b, 10]\n",
    "        loss = tf.square(out-y_onehot)\n",
    "        # [b]\n",
    "        loss = tf.reduce_sum(loss) / 32\n",
    "\n",
    "\n",
    "    acc_meter.update_state(tf.argmax(out, axis=1), y)\n",
    "\n",
    "    grads = tape.gradient(loss, network.trainable_variables)\n",
    "    optimizer.apply_gradients(zip(grads, network.trainable_variables))\n",
    "\n",
    "\n",
    "    if step % 200==0:\n",
    "\n",
    "        print(step, 'loss:', float(loss), 'acc:', acc_meter.result().numpy())\n",
    "        acc_meter.reset_states()"
   ]
  },
  {
   "cell_type": "code",
   "execution_count": 32,
   "metadata": {},
   "outputs": [],
   "source": [
    "t1 = tf.constant([0.1,0.1,0.2,0.6])\n",
    "t2 = tf.constant([0,0,0,1.0])"
   ]
  },
  {
   "cell_type": "code",
   "execution_count": 36,
   "metadata": {},
   "outputs": [
    {
     "name": "stdout",
     "output_type": "stream",
     "text": [
      "tf.Tensor([0.01       0.01       0.04       0.15999998], shape=(4,), dtype=float32)\n"
     ]
    }
   ],
   "source": [
    "l = tf.square(t1-t2)\n",
    "print(l)"
   ]
  },
  {
   "cell_type": "code",
   "execution_count": 38,
   "metadata": {},
   "outputs": [
    {
     "data": {
      "text/plain": [
       "<tf.Tensor: shape=(), dtype=float32, numpy=0.21999998>"
      ]
     },
     "execution_count": 38,
     "metadata": {},
     "output_type": "execute_result"
    }
   ],
   "source": [
    "tf.reduce_sum(l) / 1"
   ]
  }
 ],
 "metadata": {
  "kernelspec": {
   "display_name": "Python 3",
   "language": "python",
   "name": "python3"
  },
  "language_info": {
   "codemirror_mode": {
    "name": "ipython",
    "version": 3
   },
   "file_extension": ".py",
   "mimetype": "text/x-python",
   "name": "python",
   "nbconvert_exporter": "python",
   "pygments_lexer": "ipython3",
   "version": "3.6.9"
  }
 },
 "nbformat": 4,
 "nbformat_minor": 4
}
