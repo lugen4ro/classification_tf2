{
 "cells": [
  {
   "cell_type": "markdown",
   "metadata": {},
   "source": [
    "# Simple Mnist Example"
   ]
  },
  {
   "cell_type": "code",
   "execution_count": 1,
   "metadata": {},
   "outputs": [],
   "source": [
    "import os\n",
    "import tensorflow as tf\n",
    "from tensorflow import keras\n",
    "from tensorflow.keras import layers, optimizers, datasets\n",
    "\n",
    "os.environ['CUDA_VISIBLE_DEVICES'] = '0'\n",
    "os.environ['TF_CPP_MIN_LOG_LEVEL'] = '2'  # or any {'0', '1', '2'}"
   ]
  },
  {
   "cell_type": "code",
   "execution_count": 2,
   "metadata": {},
   "outputs": [],
   "source": [
    "##### CREATE DATASET #####\n",
    "def mnist_dataset():\n",
    "    (x, y), _ = datasets.mnist.load_data()\n",
    "    ds = tf.data.Dataset.from_tensor_slices((x, y))\n",
    "    ds = ds.map(prepare_mnist_features_and_labels)\n",
    "    \n",
    "    # take create a dataset with at most arg elements\n",
    "    ds = ds.take(50000).shuffle(50000).batch(100)\n",
    "    return ds\n",
    "\n",
    "def prepare_mnist_features_and_labels(x, y):\n",
    "    # Casts a tensor to a new type.\n",
    "    x = tf.cast(x, tf.float32) / 255.0\n",
    "    y = tf.cast(y, tf.int64)\n",
    "    return x, y\n"
   ]
  },
  {
   "cell_type": "code",
   "execution_count": null,
   "metadata": {},
   "outputs": [],
   "source": [
    "##### CREATE MODEl #####\n",
    "model = keras.Sequential([\n",
    "    layers.Reshape(target_shape=(28 * 28,), input_shape=(28, 28)),\n",
    "    layers.Dense(100, activation='relu'),\n",
    "    layers.Dense(100, activation='relu'),\n",
    "    layers.Dense(10)])\n",
    "\n",
    "optimizer = optimizers.Adam()"
   ]
  },
  {
   "cell_type": "code",
   "execution_count": 6,
   "metadata": {},
   "outputs": [],
   "source": [
    "##### CREATE DATASET #####\n",
    "@tf.function\n",
    "def compute_loss(logits, labels):\n",
    "    return tf.reduce_mean(\n",
    "        tf.nn.sparse_softmax_cross_entropy_with_logits(\n",
    "            logits=logits, labels=labels))\n",
    "\n",
    "@tf.function\n",
    "def compute_accuracy(logits, labels):\n",
    "    predictions = tf.argmax(logits, axis=1)\n",
    "    return tf.reduce_mean(tf.cast(tf.equal(predictions, labels), tf.float32))\n",
    "\n",
    "@tf.function\n",
    "def train_one_step(model, optimizer, x, y):\n",
    "\n",
    "    # gradient tape to keep track of the gradients to use with the optimizer\n",
    "    with tf.GradientTape() as tape:\n",
    "        logits = model(x)\n",
    "        loss = compute_loss(logits, y)\n",
    "\n",
    "    # compute gradient\n",
    "    grads = tape.gradient(loss, model.trainable_variables)\n",
    "    # update to weights\n",
    "    optimizer.apply_gradients(zip(grads, model.trainable_variables))\n",
    "\n",
    "    accuracy = compute_accuracy(logits, y)\n",
    "\n",
    "    # loss and accuracy is scalar tensor\n",
    "    return loss, accuracy\n",
    "\n",
    "def train(epoch, model, optimizer):\n",
    "\n",
    "    train_ds = mnist_dataset()\n",
    "    loss = 0.0\n",
    "    accuracy = 0.0\n",
    "    for step, (x, y) in enumerate(train_ds):\n",
    "        loss, accuracy = train_one_step(model, optimizer, x, y)\n",
    "\n",
    "        if step % 500 == 0:\n",
    "            print('epoch', epoch, ': loss', loss.numpy(), '; accuracy', accuracy.numpy())\n",
    "\n",
    "    return loss, accuracy\n"
   ]
  },
  {
   "cell_type": "code",
   "execution_count": 7,
   "metadata": {},
   "outputs": [
    {
     "name": "stdout",
     "output_type": "stream",
     "text": [
      "epoch 0 : loss 2.278705 ; accuracy 0.13\n",
      "epoch 1 : loss 0.14803983 ; accuracy 0.96\n",
      "epoch 2 : loss 0.06116972 ; accuracy 0.99\n",
      "epoch 3 : loss 0.05639075 ; accuracy 0.99\n",
      "epoch 4 : loss 0.035583988 ; accuracy 1.0\n",
      "epoch 5 : loss 0.019163467 ; accuracy 1.0\n",
      "epoch 6 : loss 0.020616665 ; accuracy 0.99\n",
      "epoch 7 : loss 0.019613 ; accuracy 1.0\n",
      "epoch 8 : loss 0.018232979 ; accuracy 1.0\n",
      "epoch 9 : loss 0.01663007 ; accuracy 1.0\n",
      "epoch 10 : loss 0.0023701896 ; accuracy 1.0\n",
      "epoch 11 : loss 0.0177087 ; accuracy 1.0\n",
      "epoch 12 : loss 0.01740459 ; accuracy 1.0\n",
      "epoch 13 : loss 0.015479625 ; accuracy 0.99\n",
      "epoch 14 : loss 0.001899093 ; accuracy 1.0\n",
      "epoch 15 : loss 0.02245509 ; accuracy 0.99\n",
      "epoch 16 : loss 0.0013087247 ; accuracy 1.0\n",
      "epoch 17 : loss 0.0022392091 ; accuracy 1.0\n",
      "epoch 18 : loss 0.0010316534 ; accuracy 1.0\n",
      "epoch 19 : loss 0.012830465 ; accuracy 0.99\n",
      "Final epoch 19 : loss 0.014195996 ; accuracy 1.0\n"
     ]
    }
   ],
   "source": [
    "for epoch in range(20):\n",
    "    loss, accuracy = train(epoch, model, optimizer)\n",
    "\n",
    "print('Final epoch', epoch, ': loss', loss.numpy(), '; accuracy', accuracy.numpy())"
   ]
  },
  {
   "cell_type": "code",
   "execution_count": null,
   "metadata": {},
   "outputs": [],
   "source": []
  },
  {
   "cell_type": "code",
   "execution_count": null,
   "metadata": {},
   "outputs": [],
   "source": []
  },
  {
   "cell_type": "code",
   "execution_count": null,
   "metadata": {},
   "outputs": [],
   "source": []
  }
 ],
 "metadata": {
  "kernelspec": {
   "display_name": "Python 3",
   "language": "python",
   "name": "python3"
  },
  "language_info": {
   "codemirror_mode": {
    "name": "ipython",
    "version": 3
   },
   "file_extension": ".py",
   "mimetype": "text/x-python",
   "name": "python",
   "nbconvert_exporter": "python",
   "pygments_lexer": "ipython3",
   "version": "3.6.9"
  }
 },
 "nbformat": 4,
 "nbformat_minor": 4
}
